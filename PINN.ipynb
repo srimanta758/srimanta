{
  "nbformat": 4,
  "nbformat_minor": 0,
  "metadata": {
    "colab": {
      "provenance": [],
      "authorship_tag": "ABX9TyOEFtdkMhJ1UhPN5hXEBYNh",
      "include_colab_link": true
    },
    "kernelspec": {
      "name": "python3",
      "display_name": "Python 3"
    },
    "language_info": {
      "name": "python"
    }
  },
  "cells": [
    {
      "cell_type": "markdown",
      "metadata": {
        "id": "view-in-github",
        "colab_type": "text"
      },
      "source": [
        "<a href=\"https://colab.research.google.com/github/srimanta758/srimanta/blob/master/PINN.ipynb\" target=\"_parent\"><img src=\"https://colab.research.google.com/assets/colab-badge.svg\" alt=\"Open In Colab\"/></a>"
      ]
    },
    {
      "cell_type": "code",
      "execution_count": 1,
      "metadata": {
        "colab": {
          "base_uri": "https://localhost:8080/"
        },
        "id": "rAJ57LViKbIB",
        "outputId": "689f5df3-f694-4bc6-dd09-69f1d2f24058"
      },
      "outputs": [
        {
          "output_type": "stream",
          "name": "stdout",
          "text": [
            "Cloning into 'PINNs'...\n",
            "remote: Enumerating objects: 741, done.\u001b[K\n",
            "remote: Total 741 (delta 0), reused 0 (delta 0), pack-reused 741\u001b[K\n",
            "Receiving objects: 100% (741/741), 474.47 MiB | 19.67 MiB/s, done.\n",
            "Resolving deltas: 100% (66/66), done.\n",
            "Updating files: 100% (561/561), done.\n"
          ]
        }
      ],
      "source": [
        "!git clone https://github.com/maziarraissi/PINNs.git"
      ]
    }
  ]
}